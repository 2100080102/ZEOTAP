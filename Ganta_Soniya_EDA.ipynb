{
 "cells": [
  {
   "cell_type": "code",
   "execution_count": 14,
   "id": "17138270-c6df-4bc7-a4dc-281099988640",
   "metadata": {},
   "outputs": [],
   "source": [
    "import pandas as pd\n",
    "customers = pd.read_csv(\"Customers.csv\")\n",
    "transactions = pd.read_csv(\"Transactions.csv\")\n",
    "products = pd.read_csv(\"Products.csv\")"
   ]
  },
  {
   "cell_type": "code",
   "execution_count": 15,
   "id": "027228b5-a04d-4965-b977-2a67be2504a3",
   "metadata": {},
   "outputs": [
    {
     "name": "stdout",
     "output_type": "stream",
     "text": [
      "  CustomerID        CustomerName         Region  SignupDate\n",
      "0      C0001    Lawrence Carroll  South America  2022-07-10\n",
      "1      C0002      Elizabeth Lutz           Asia  2022-02-13\n",
      "2      C0003      Michael Rivera  South America  2024-03-07\n",
      "3      C0004  Kathleen Rodriguez  South America  2022-10-09\n",
      "4      C0005         Laura Weber           Asia  2022-08-15\n",
      "  TransactionID CustomerID ProductID      TransactionDate  Quantity  \\\n",
      "0        T00001      C0199      P067  2024-08-25 12:38:23         1   \n",
      "1        T00112      C0146      P067  2024-05-27 22:23:54         1   \n",
      "2        T00166      C0127      P067  2024-04-25 07:38:55         1   \n",
      "3        T00272      C0087      P067  2024-03-26 22:55:37         2   \n",
      "4        T00363      C0070      P067  2024-03-21 15:10:10         3   \n",
      "\n",
      "   TotalValue   Price  \n",
      "0      300.68  300.68  \n",
      "1      300.68  300.68  \n",
      "2      300.68  300.68  \n",
      "3      601.36  300.68  \n",
      "4      902.04  300.68  \n",
      "  ProductID              ProductName     Category   Price\n",
      "0      P001     ActiveWear Biography        Books  169.30\n",
      "1      P002    ActiveWear Smartwatch  Electronics  346.30\n",
      "2      P003  ComfortLiving Biography        Books   44.12\n",
      "3      P004            BookWorld Rug   Home Decor   95.69\n",
      "4      P005          TechPro T-Shirt     Clothing  429.31\n"
     ]
    }
   ],
   "source": [
    "#checking whether the dataset is loaded correctly\n",
    "print(customers.head())\n",
    "print(transactions.head())\n",
    "print(products.head())"
   ]
  },
  {
   "cell_type": "code",
   "execution_count": 16,
   "id": "02f94835-b8dc-4148-ac49-5e4a9045219c",
   "metadata": {},
   "outputs": [
    {
     "name": "stdout",
     "output_type": "stream",
     "text": [
      "                 customers  transaction  products\n",
      "Category               NaN          NaN       0.0\n",
      "CustomerID             0.0          0.0       NaN\n",
      "CustomerName           0.0          NaN       NaN\n",
      "Price                  NaN          0.0       0.0\n",
      "ProductID              NaN          0.0       0.0\n",
      "ProductName            NaN          NaN       0.0\n",
      "Quantity               NaN          0.0       NaN\n",
      "Region                 0.0          NaN       NaN\n",
      "SignupDate             0.0          NaN       NaN\n",
      "TotalValue             NaN          0.0       NaN\n",
      "TransactionDate        NaN          0.0       NaN\n",
      "TransactionID          NaN          0.0       NaN\n"
     ]
    }
   ],
   "source": [
    "#checking if there are any null or missing values\n",
    "missing_customers_data = customers.isnull().sum()\n",
    "missing_transactions_data = transactions.isnull().sum()\n",
    "missing_products_data = products.isnull().sum()\n",
    "\n",
    "#total missing data\n",
    "missing_data = pd.DataFrame({ \n",
    "    'customers' : missing_customers_data, \n",
    "    'transaction' : missing_transactions_data, \n",
    "    'products' : missing_products_data\n",
    "})\n",
    "print(missing_data)"
   ]
  },
  {
   "cell_type": "code",
   "execution_count": 20,
   "id": "ba103288-bdad-4100-9793-94c9497d5be4",
   "metadata": {},
   "outputs": [
    {
     "name": "stdout",
     "output_type": "stream",
     "text": [
      "Empty DataFrame\n",
      "Columns: [CustomerID, CustomerName, Region, SignupDate]\n",
      "Index: []\n",
      "Empty DataFrame\n",
      "Columns: [TransactionID, CustomerID, ProductID, TransactionDate, Quantity, TotalValue, Price]\n",
      "Index: []\n",
      "Empty DataFrame\n",
      "Columns: [ProductID, ProductName, Category, Price]\n",
      "Index: []\n"
     ]
    }
   ],
   "source": [
    "#identifying the missing values in every row of every dataset\n",
    "print(customers[customers.isnull().any(axis=1)])  \n",
    "print(transactions[transactions.isnull().any(axis=1)]) \n",
    "print(products[products.isnull().any(axis=1)]) "
   ]
  },
  {
   "cell_type": "code",
   "execution_count": 22,
   "id": "22a1777f-f98f-4787-92a4-9aa3fec0fd4f",
   "metadata": {},
   "outputs": [
    {
     "name": "stdout",
     "output_type": "stream",
     "text": [
      "CustomerID      0\n",
      "CustomerName    0\n",
      "Region          0\n",
      "SignupDate      0\n",
      "dtype: int64\n",
      "TransactionID      0\n",
      "CustomerID         0\n",
      "ProductID          0\n",
      "TransactionDate    0\n",
      "Quantity           0\n",
      "TotalValue         0\n",
      "Price              0\n",
      "dtype: int64\n",
      "ProductID      0\n",
      "ProductName    0\n",
      "Category       0\n",
      "Price          0\n",
      "dtype: int64\n"
     ]
    }
   ],
   "source": [
    "# Handling missing values based on the columns\n",
    "\n",
    "# For customers dataset\n",
    "customers['CustomerName'].fillna('Unknown')\n",
    "customers['Region'].fillna('Unknown')\n",
    "customers['SignupDate'].fillna('Unknown')\n",
    "\n",
    "# For transactions dataset\n",
    "transactions['Quantity'].fillna(0)\n",
    "transactions['TotalValue'].fillna(0)\n",
    "transactions['Price'].fillna(transactions['Price'].mean())  # For numerical columns\n",
    "transactions['TransactionID'].fillna('Unknown')\n",
    "\n",
    "# For products dataset\n",
    "products['Category'].fillna('Unknown')\n",
    "products['ProductName'].fillna('Unknown')\n",
    "products['Price'].fillna(products['Price'].mean())\n",
    "\n",
    "# Checking again after filling\n",
    "print(customers.isnull().sum())\n",
    "print(transactions.isnull().sum())\n",
    "print(products.isnull().sum())\n"
   ]
  },
  {
   "cell_type": "code",
   "execution_count": 23,
   "id": "432dd593-9678-4d84-9fb0-49c851855b3e",
   "metadata": {},
   "outputs": [
    {
     "name": "stdout",
     "output_type": "stream",
     "text": [
      "  CustomerID        CustomerName         Region  SignupDate\n",
      "0      C0001    Lawrence Carroll  South America  2022-07-10\n",
      "1      C0002      Elizabeth Lutz           Asia  2022-02-13\n",
      "2      C0003      Michael Rivera  South America  2024-03-07\n",
      "3      C0004  Kathleen Rodriguez  South America  2022-10-09\n",
      "4      C0005         Laura Weber           Asia  2022-08-15\n",
      "  TransactionID CustomerID ProductID      TransactionDate  Quantity  \\\n",
      "0        T00001      C0199      P067  2024-08-25 12:38:23         1   \n",
      "1        T00112      C0146      P067  2024-05-27 22:23:54         1   \n",
      "2        T00166      C0127      P067  2024-04-25 07:38:55         1   \n",
      "3        T00272      C0087      P067  2024-03-26 22:55:37         2   \n",
      "4        T00363      C0070      P067  2024-03-21 15:10:10         3   \n",
      "\n",
      "   TotalValue   Price  \n",
      "0      300.68  300.68  \n",
      "1      300.68  300.68  \n",
      "2      300.68  300.68  \n",
      "3      601.36  300.68  \n",
      "4      902.04  300.68  \n",
      "  ProductID              ProductName     Category   Price\n",
      "0      P001     ActiveWear Biography        Books  169.30\n",
      "1      P002    ActiveWear Smartwatch  Electronics  346.30\n",
      "2      P003  ComfortLiving Biography        Books   44.12\n",
      "3      P004            BookWorld Rug   Home Decor   95.69\n",
      "4      P005          TechPro T-Shirt     Clothing  429.31\n"
     ]
    }
   ],
   "source": [
    "#display\n",
    "print(customers.head())\n",
    "print(transactions.head())\n",
    "print(products.head())"
   ]
  },
  {
   "cell_type": "code",
   "execution_count": 24,
   "id": "6a603ea8-88ad-449a-a536-38ab387d9ed1",
   "metadata": {},
   "outputs": [
    {
     "name": "stdout",
     "output_type": "stream",
     "text": [
      "       CustomerID      CustomerName         Region  SignupDate\n",
      "count         200               200            200         200\n",
      "unique        200               200              4         179\n",
      "top         C0001  Lawrence Carroll  South America  2024-11-11\n",
      "freq            1                 1             59           3\n",
      "          Quantity   TotalValue       Price\n",
      "count  1000.000000  1000.000000  1000.00000\n",
      "mean      2.537000   689.995560   272.55407\n",
      "std       1.117981   493.144478   140.73639\n",
      "min       1.000000    16.080000    16.08000\n",
      "25%       2.000000   295.295000   147.95000\n",
      "50%       3.000000   588.880000   299.93000\n",
      "75%       4.000000  1011.660000   404.40000\n",
      "max       4.000000  1991.040000   497.76000\n",
      "       ProductID            ProductName Category       Price\n",
      "count        100                    100      100  100.000000\n",
      "unique       100                     66        4         NaN\n",
      "top         P001  ActiveWear Smartwatch    Books         NaN\n",
      "freq           1                      4       26         NaN\n",
      "mean         NaN                    NaN      NaN  267.551700\n",
      "std          NaN                    NaN      NaN  143.219383\n",
      "min          NaN                    NaN      NaN   16.080000\n",
      "25%          NaN                    NaN      NaN  147.767500\n",
      "50%          NaN                    NaN      NaN  292.875000\n",
      "75%          NaN                    NaN      NaN  397.090000\n",
      "max          NaN                    NaN      NaN  497.760000\n"
     ]
    }
   ],
   "source": [
    "#summary statistics \n",
    "print(customers.describe(include='all'))\n",
    "print(transactions.describe())\n",
    "print(products.describe(include='all'))"
   ]
  },
  {
   "cell_type": "code",
   "execution_count": 25,
   "id": "0c0d45bf-1eb0-42df-9197-5249d05bb2d2",
   "metadata": {},
   "outputs": [
    {
     "name": "stdout",
     "output_type": "stream",
     "text": [
      "  TransactionID CustomerID ProductID      TransactionDate  Quantity  \\\n",
      "0        T00001      C0199      P067  2024-08-25 12:38:23         1   \n",
      "1        T00112      C0146      P067  2024-05-27 22:23:54         1   \n",
      "2        T00166      C0127      P067  2024-04-25 07:38:55         1   \n",
      "3        T00272      C0087      P067  2024-03-26 22:55:37         2   \n",
      "4        T00363      C0070      P067  2024-03-21 15:10:10         3   \n",
      "\n",
      "   TotalValue  Price_x                      ProductName     Category  Price_y  \\\n",
      "0      300.68   300.68  ComfortLiving Bluetooth Speaker  Electronics   300.68   \n",
      "1      300.68   300.68  ComfortLiving Bluetooth Speaker  Electronics   300.68   \n",
      "2      300.68   300.68  ComfortLiving Bluetooth Speaker  Electronics   300.68   \n",
      "3      601.36   300.68  ComfortLiving Bluetooth Speaker  Electronics   300.68   \n",
      "4      902.04   300.68  ComfortLiving Bluetooth Speaker  Electronics   300.68   \n",
      "\n",
      "      CustomerName         Region  SignupDate  \n",
      "0   Andrea Jenkins         Europe  2022-12-03  \n",
      "1  Brittany Harvey           Asia  2024-09-04  \n",
      "2  Kathryn Stevens         Europe  2024-04-04  \n",
      "3  Travis Campbell  South America  2024-04-11  \n",
      "4    Timothy Perez         Europe  2022-03-15  \n"
     ]
    }
   ],
   "source": [
    "#to stop working with multiple datasets manually combining the datasets\n",
    "combined = transactions.merge(products, on='ProductID', how='left').merge(customers, on='CustomerID', how='left')\n",
    "\n",
    "#left join 1 - all rows from transactions will be kept and matching rows from products will be added according to ProductID\n",
    "#left join 2 - all rows from the transactions and products will be retained, and matching rows from customers will be added according to customerID\n",
    "\n",
    "print(combined.head())"
   ]
  },
  {
   "cell_type": "code",
   "execution_count": 27,
   "id": "55884bcf-775e-4b57-9aaa-c0435603e052",
   "metadata": {},
   "outputs": [
    {
     "name": "stdout",
     "output_type": "stream",
     "text": [
      "       TransactionID CustomerID ProductID      TransactionDate     Quantity  \\\n",
      "count           1000       1000      1000                 1000  1000.000000   \n",
      "unique          1000        199       100                 1000          NaN   \n",
      "top           T00001      C0109      P059  2024-08-25 12:38:23          NaN   \n",
      "freq               1         11        19                    1          NaN   \n",
      "mean             NaN        NaN       NaN                  NaN     2.537000   \n",
      "std              NaN        NaN       NaN                  NaN     1.117981   \n",
      "min              NaN        NaN       NaN                  NaN     1.000000   \n",
      "25%              NaN        NaN       NaN                  NaN     2.000000   \n",
      "50%              NaN        NaN       NaN                  NaN     3.000000   \n",
      "75%              NaN        NaN       NaN                  NaN     4.000000   \n",
      "max              NaN        NaN       NaN                  NaN     4.000000   \n",
      "\n",
      "         TotalValue     Price_x            ProductName Category     Price_y  \\\n",
      "count   1000.000000  1000.00000                   1000     1000  1000.00000   \n",
      "unique          NaN         NaN                     66        4         NaN   \n",
      "top             NaN         NaN  ActiveWear Smartwatch    Books         NaN   \n",
      "freq            NaN         NaN                     40      270         NaN   \n",
      "mean     689.995560   272.55407                    NaN      NaN   272.55407   \n",
      "std      493.144478   140.73639                    NaN      NaN   140.73639   \n",
      "min       16.080000    16.08000                    NaN      NaN    16.08000   \n",
      "25%      295.295000   147.95000                    NaN      NaN   147.95000   \n",
      "50%      588.880000   299.93000                    NaN      NaN   299.93000   \n",
      "75%     1011.660000   404.40000                    NaN      NaN   404.40000   \n",
      "max     1991.040000   497.76000                    NaN      NaN   497.76000   \n",
      "\n",
      "         CustomerName         Region  SignupDate  \n",
      "count            1000           1000        1000  \n",
      "unique            199              4         178  \n",
      "top     Abigail Jones  South America  2022-04-16  \n",
      "freq               11            304          19  \n",
      "mean              NaN            NaN         NaN  \n",
      "std               NaN            NaN         NaN  \n",
      "min               NaN            NaN         NaN  \n",
      "25%               NaN            NaN         NaN  \n",
      "50%               NaN            NaN         NaN  \n",
      "75%               NaN            NaN         NaN  \n",
      "max               NaN            NaN         NaN  \n"
     ]
    }
   ],
   "source": [
    "#to understand key metrics displaying the frist rows in combined dataset\n",
    "print(combined.describe(include='all'))"
   ]
  },
  {
   "cell_type": "code",
   "execution_count": 28,
   "id": "cc8bf59c-ab82-4de7-81d4-72cf65f86555",
   "metadata": {},
   "outputs": [
    {
     "name": "stdout",
     "output_type": "stream",
     "text": [
      "Category\n",
      "Books          192147.47\n",
      "Electronics    180783.50\n",
      "Clothing       166170.66\n",
      "Home Decor     150893.93\n",
      "Name: TotalValue, dtype: float64\n"
     ]
    }
   ],
   "source": [
    "#identify most profitable categories\n",
    "category_sales = combined.groupby('Category')['TotalValue'].sum().sort_values(ascending=False)\n",
    "print(category_sales)"
   ]
  },
  {
   "cell_type": "code",
   "execution_count": 29,
   "id": "18fa8ef3-a106-49ec-881e-75ed5ea7c30a",
   "metadata": {},
   "outputs": [
    {
     "data": {
      "image/png": "[encoded data removed]",
      "text/plain": [
       "<Figure size 800x500 with 1 Axes>"
      ]
     },
     "metadata": {},
     "output_type": "display_data"
    }
   ],
   "source": [
    "#visualizing profitable categories using a bar chart\n",
    "import matplotlib.pyplot as plt\n",
    "category_sales.plot(kind='bar', figsize=(8, 5), title=\"Total Sales by Category\")\n",
    "plt.ylabel(\"Total Sales (USD)\")\n",
    "plt.show()"
   ]
  },
  {
   "cell_type": "code",
   "execution_count": 30,
   "id": "54915101-b49b-4c6f-9abb-233e31ab51cc",
   "metadata": {},
   "outputs": [
    {
     "name": "stdout",
     "output_type": "stream",
     "text": [
      "ProductName\n",
      "ActiveWear Smartwatch    39096.97\n",
      "SoundWave Headphones     25211.64\n",
      "SoundWave Novel          24507.90\n",
      "ActiveWear Jacket        22712.56\n",
      "ActiveWear Rug           22314.43\n",
      "Name: TotalValue, dtype: float64\n"
     ]
    }
   ],
   "source": [
    "#top 5 best selling products\n",
    "top_products = combined.groupby('ProductName')['TotalValue'].sum().sort_values(ascending=False).head(5)\n",
    "print(top_products)"
   ]
  },
  {
   "cell_type": "code",
   "execution_count": 31,
   "id": "f5490506-b099-4268-a3a2-195e11fd1ac1",
   "metadata": {},
   "outputs": [
    {
     "name": "stdout",
     "output_type": "stream",
     "text": [
      "Region\n",
      "South America    219352.56\n",
      "Europe           166254.63\n",
      "North America    152313.40\n",
      "Asia             152074.97\n",
      "Name: TotalValue, dtype: float64\n"
     ]
    }
   ],
   "source": [
    "#determine which regions are driving the most revenue\n",
    "region_sales = combined.groupby('Region')['TotalValue'].sum().sort_values(ascending=False)\n",
    "print(region_sales)"
   ]
  },
  {
   "cell_type": "code",
   "execution_count": 32,
   "id": "6f2e96fb-6ce1-44f3-b323-38b08450aa27",
   "metadata": {},
   "outputs": [
    {
     "name": "stdout",
     "output_type": "stream",
     "text": [
      "Region\n",
      "South America    304\n",
      "North America    244\n",
      "Europe           234\n",
      "Asia             218\n",
      "Name: count, dtype: int64\n"
     ]
    }
   ],
   "source": [
    "#to identify the size of customer base in each region - no of customers\n",
    "region_customers = combined['Region'].value_counts()\n",
    "print(region_customers)"
   ]
  },
  {
   "cell_type": "code",
   "execution_count": 33,
   "id": "fa749542-ec6a-478d-8788-928f91595558",
   "metadata": {},
   "outputs": [
    {
     "name": "stdout",
     "output_type": "stream",
     "text": [
      "TransactionDate\n",
      "2023-12     3769.52\n",
      "2024-01    66376.39\n",
      "2024-02    51459.27\n",
      "2024-03    47828.73\n",
      "2024-04    57519.06\n",
      "2024-05    64527.74\n",
      "2024-06    48771.18\n",
      "2024-07    71366.39\n",
      "2024-08    63436.74\n",
      "2024-09    70603.75\n",
      "2024-10    47063.22\n",
      "2024-11    38224.37\n",
      "2024-12    59049.20\n",
      "Freq: M, Name: TotalValue, dtype: float64\n"
     ]
    }
   ],
   "source": [
    "# Convert TransactionDate to datetime\n",
    "combined['TransactionDate'] = pd.to_datetime(combined['TransactionDate'])\n",
    "\n",
    "#sales by month\n",
    "sales_trend = combined.groupby(combined['TransactionDate'].dt.to_period('M'))['TotalValue'].sum()\n",
    "print(sales_trend)"
   ]
  },
  {
   "cell_type": "code",
   "execution_count": 34,
   "id": "958322b3-3118-4b2f-b5da-de6495dce74a",
   "metadata": {},
   "outputs": [
    {
     "data": {
      "image/png": "[encoded data removed]",
      "text/plain": [
       "<Figure size 1000x600 with 1 Axes>"
      ]
     },
     "metadata": {},
     "output_type": "display_data"
    }
   ],
   "source": [
    "#visualize the sales vary over time\n",
    "sales_trend.plot(kind='line', figsize=(10, 6), title=\"Sales Trend Over Time\")\n",
    "plt.ylabel(\"Total Sales (USD)\")\n",
    "plt.xlabel(\"Month\")\n",
    "plt.show()"
   ]
  },
  {
   "cell_type": "code",
   "execution_count": 35,
   "id": "09cfc88b-3cb2-49ee-9957-97c71a711a20",
   "metadata": {},
   "outputs": [
    {
     "name": "stdout",
     "output_type": "stream",
     "text": [
      "DayOfWeek\n",
      "Friday        87032.09\n",
      "Monday       101984.33\n",
      "Saturday      81399.74\n",
      "Sunday        92605.93\n",
      "Thursday      99202.71\n",
      "Tuesday      108567.61\n",
      "Wednesday    119203.15\n",
      "Name: TotalValue, dtype: float64\n"
     ]
    }
   ],
   "source": [
    "# Transactions by day of the week\n",
    "combined['DayOfWeek'] = combined['TransactionDate'].dt.day_name()\n",
    "day_sales = combined.groupby('DayOfWeek')['TotalValue'].sum()\n",
    "print(day_sales)"
   ]
  },
  {
   "cell_type": "code",
   "execution_count": 36,
   "id": "a7dc0766-9648-4bd3-b093-2d38e3fdebb1",
   "metadata": {},
   "outputs": [
    {
     "name": "stdout",
     "output_type": "stream",
     "text": [
      "CustomerName\n",
      "Michael Harrell      1323.133333\n",
      "Paul Carter          1278.110000\n",
      "Catherine White      1266.426667\n",
      "Karen Clements MD    1263.457500\n",
      "Laura Watts          1245.720000\n",
      "                        ...     \n",
      "Amber Gonzalez        223.960000\n",
      "Christina Stark       214.266667\n",
      "Tina Ford             137.540000\n",
      "Tyler Holt            132.640000\n",
      "James Murphy           82.360000\n",
      "Name: TotalValue, Length: 199, dtype: float64\n"
     ]
    }
   ],
   "source": [
    "# Average transaction value per customer\n",
    "avg_spending = combined.groupby('CustomerName')['TotalValue'].mean().sort_values(ascending=False)\n",
    "print(avg_spending)"
   ]
  },
  {
   "cell_type": "code",
   "execution_count": 37,
   "id": "80c482cd-35c0-4b12-8a03-30f7b9fc550e",
   "metadata": {},
   "outputs": [
    {
     "name": "stdout",
     "output_type": "stream",
     "text": [
      "CustomerName\n",
      "Abigail Jones      11\n",
      "William Adams      11\n",
      "Paul Parsons       10\n",
      "Matthew Johnson    10\n",
      "Gerald Hines       10\n",
      "Name: count, dtype: int64\n"
     ]
    }
   ],
   "source": [
    "# Frequency of transactions per customer\n",
    "customer_frequency = combined['CustomerName'].value_counts()\n",
    "print(customer_frequency.head(5))"
   ]
  },
  {
   "cell_type": "code",
   "execution_count": null,
   "id": "8fd6f1a6-b08c-4475-86a4-dea8775588d1",
   "metadata": {},
   "outputs": [],
   "source": []
  }
 ],
 "metadata": {
  "kernelspec": {
   "display_name": "Python 3 (ipykernel)",
   "language": "python",
   "name": "python3"
  },
  "language_info": {
   "codemirror_mode": {
    "name": "ipython",
    "version": 3
   },
   "file_extension": ".py",
   "mimetype": "text/x-python",
   "name": "python",
   "nbconvert_exporter": "python",
   "pygments_lexer": "ipython3",
   "version": "3.12.4"
  }
 },
 "nbformat": 4,
 "nbformat_minor": 5
}
