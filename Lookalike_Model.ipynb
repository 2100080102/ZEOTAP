{
 "cells": [
  {
   "cell_type": "code",
   "execution_count": 2,
   "id": "5a2c882d-aa8c-4d83-9a5f-47bcb7c74926",
   "metadata": {},
   "outputs": [
    {
     "name": "stdout",
     "output_type": "stream",
     "text": [
      "  TransactionID CustomerID ProductID      TransactionDate  Quantity  \\\n",
      "0        T00001      C0199      P067  2024-08-25 12:38:23         1   \n",
      "1        T00112      C0146      P067  2024-05-27 22:23:54         1   \n",
      "2        T00166      C0127      P067  2024-04-25 07:38:55         1   \n",
      "3        T00272      C0087      P067  2024-03-26 22:55:37         2   \n",
      "4        T00363      C0070      P067  2024-03-21 15:10:10         3   \n",
      "\n",
      "   TotalValue  Price_x                      ProductName     Category  Price_y  \\\n",
      "0      300.68   300.68  ComfortLiving Bluetooth Speaker  Electronics   300.68   \n",
      "1      300.68   300.68  ComfortLiving Bluetooth Speaker  Electronics   300.68   \n",
      "2      300.68   300.68  ComfortLiving Bluetooth Speaker  Electronics   300.68   \n",
      "3      601.36   300.68  ComfortLiving Bluetooth Speaker  Electronics   300.68   \n",
      "4      902.04   300.68  ComfortLiving Bluetooth Speaker  Electronics   300.68   \n",
      "\n",
      "      CustomerName         Region  SignupDate  \n",
      "0   Andrea Jenkins         Europe  2022-12-03  \n",
      "1  Brittany Harvey           Asia  2024-09-04  \n",
      "2  Kathryn Stevens         Europe  2024-04-04  \n",
      "3  Travis Campbell  South America  2024-04-11  \n",
      "4    Timothy Perez         Europe  2022-03-15  \n"
     ]
    }
   ],
   "source": [
    "#loading datasets and merging them together\n",
    "import pandas as pd\n",
    "\n",
    "#load\n",
    "customers = pd.read_csv('Customers.csv')\n",
    "transactions = pd.read_csv('Transactions.csv')\n",
    "products = pd.read_csv('Products.csv')\n",
    "\n",
    "# Merge - transactions -> products -> customers\n",
    "combined = transactions.merge(products, on='ProductID').merge(customers, on='CustomerID')\n",
    "print(combined.head())"
   ]
  },
  {
   "cell_type": "code",
   "execution_count": 3,
   "id": "fe11eb72-ee5e-4ef4-8de6-7415ba887064",
   "metadata": {},
   "outputs": [
    {
     "name": "stdout",
     "output_type": "stream",
     "text": [
      "Customer Features:\n",
      "  CustomerID  TotalValue  Quantity                         Category\n",
      "0      C0001     3354.52        12     Books,Home Decor,Electronics\n",
      "1      C0002     1862.74        10              Home Decor,Clothing\n",
      "2      C0003     2725.38        14  Home Decor,Clothing,Electronics\n",
      "3      C0004     5354.88        23     Books,Home Decor,Electronics\n",
      "4      C0005     2034.24         7           Home Decor,Electronics\n"
     ]
    }
   ],
   "source": [
    "#preprocessing and feature engineering\n",
    "customer_features = combined.groupby('CustomerID').agg({\n",
    "    'TotalValue': 'sum', \n",
    "    'Quantity': 'sum',    \n",
    "    'Category': lambda x: ','.join(x.unique()),  \n",
    "}).reset_index()\n",
    "\n",
    "print(\"Customer Features:\")\n",
    "print(customer_features.head())  "
   ]
  },
  {
   "cell_type": "code",
   "execution_count": 4,
   "id": "f1e34027-bc05-4271-81a7-154b2548af46",
   "metadata": {},
   "outputs": [
    {
     "name": "stdout",
     "output_type": "stream",
     "text": [
      "Customer Features after Encoding Categories:\n",
      "  CustomerID  TotalValue  Quantity  Category\n",
      "0      C0001     3354.52        12        14\n",
      "1      C0002     1862.74        10        50\n",
      "2      C0003     2725.38        14        52\n",
      "3      C0004     5354.88        23        14\n",
      "4      C0005     2034.24         7        53\n"
     ]
    }
   ],
   "source": [
    "# Encoding\n",
    "customer_features['Category'] = customer_features['Category'].astype('category').cat.codes\n",
    "print(\"Customer Features after Encoding Categories:\")\n",
    "print(customer_features.head())  "
   ]
  },
  {
   "cell_type": "code",
   "execution_count": 5,
   "id": "f1e87440-e38c-4e18-8f22-f51575679c68",
   "metadata": {},
   "outputs": [
    {
     "name": "stdout",
     "output_type": "stream",
     "text": [
      "Customer Features after Normalization:\n",
      "  CustomerID  TotalValue  Quantity  Category\n",
      "0      C0001   -0.061701 -0.122033        14\n",
      "1      C0002   -0.877744 -0.448000        50\n",
      "2      C0003   -0.405857  0.203934        52\n",
      "3      C0004    1.032547  1.670787        14\n",
      "4      C0005   -0.783929 -0.936951        53\n"
     ]
    }
   ],
   "source": [
    "from sklearn.preprocessing import StandardScaler\n",
    "\n",
    "# Normalizing numerical features\n",
    "scaler = StandardScaler()\n",
    "customer_features[['TotalValue', 'Quantity']] = scaler.fit_transform(customer_features[['TotalValue', 'Quantity']])\n",
    "print(\"Customer Features after Normalization:\")\n",
    "print(customer_features.head())  "
   ]
  },
  {
   "cell_type": "code",
   "execution_count": 6,
   "id": "6eed3399-66f4-4d24-96df-5977d83f725f",
   "metadata": {},
   "outputs": [
    {
     "name": "stdout",
     "output_type": "stream",
     "text": [
      "Cosine Similarity Matrix (Example for first few customers):\n",
      "CustomerID     C0001     C0002     C0003     C0004     C0005     C0006  \\\n",
      "CustomerID                                                               \n",
      "C0001       1.000000  0.999914  0.999914  0.988903  0.999906  0.999237   \n",
      "C0002       0.999914  1.000000  0.999870  0.987769  0.999958  0.998638   \n",
      "C0003       0.999914  0.999870  1.000000  0.990158  0.999742  0.999000   \n",
      "C0004       0.988903  0.987769  0.990158  1.000000  0.986870  0.990985   \n",
      "C0005       0.999906  0.999958  0.999742  0.986870  1.000000  0.998750   \n",
      "\n",
      "CustomerID     C0007     C0008     C0009     C0010  ...     C0191     C0192  \\\n",
      "CustomerID                                          ...                       \n",
      "C0001       0.999906  0.999181  0.995836  0.723385  ...  0.998516  0.999778   \n",
      "C0002       0.999928  0.998887  0.996585  0.732355  ...  0.998943  0.999915   \n",
      "C0003       0.999707  0.999518  0.995121  0.724622  ...  0.998072  0.999588   \n",
      "C0004       0.986777  0.994022  0.971522  0.651953  ...  0.979563  0.985764   \n",
      "C0005       0.999995  0.998594  0.996986  0.731165  ...  0.999167  0.999972   \n",
      "\n",
      "CustomerID     C0193     C0194     C0195     C0196     C0197     C0198  \\\n",
      "CustomerID                                                               \n",
      "C0001       0.009456  0.999878  0.999612  0.978072  0.999930  0.998711   \n",
      "C0002       0.018316  0.999671  0.999365  0.975269  0.999995  0.999096   \n",
      "C0003       0.002208  0.999924  0.999805  0.977015  0.999848  0.998282   \n",
      "C0004      -0.136986  0.991103  0.992631  0.980548  0.987589  0.980264   \n",
      "C0005       0.023037  0.999576  0.999170  0.976021  0.999981  0.999310   \n",
      "\n",
      "CustomerID     C0199     C0200  \n",
      "CustomerID                      \n",
      "C0001       0.999840  0.998880  \n",
      "C0002       0.999972  0.998325  \n",
      "C0003       0.999723  0.999076  \n",
      "C0004       0.986590  0.994535  \n",
      "C0005       0.999980  0.998138  \n",
      "\n",
      "[5 rows x 199 columns]\n"
     ]
    }
   ],
   "source": [
    "from sklearn.metrics.pairwise import cosine_similarity\n",
    "\n",
    "# Calculate similarity matrix \n",
    "similarity_matrix = cosine_similarity(customer_features[['TotalValue', 'Quantity', 'Category']])\n",
    "\n",
    "# Converting matrix into a DataFrame \n",
    "similarity_df = pd.DataFrame(similarity_matrix, index=customer_features['CustomerID'], columns=customer_features['CustomerID'])\n",
    "print(\"Cosine Similarity Matrix (Example for first few customers):\")\n",
    "print(similarity_df.head())  "
   ]
  },
  {
   "cell_type": "code",
   "execution_count": 7,
   "id": "fe62cc27-42ae-45cf-b4f0-b35376859bd8",
   "metadata": {},
   "outputs": [
    {
     "name": "stdout",
     "output_type": "stream",
     "text": [
      "Top 3 Lookalikes for Customers C0001 to C0020:\n",
      "Customer C0001: [('C0164', 0.9999994990303347), ('C0127', 0.9999980128582096), ('C0184', 0.9999945535029922)]\n",
      "Customer C0002: [('C0031', 0.9999975753411989), ('C0197', 0.999995303479012), ('C0166', 0.9999907110058006)]\n",
      "Customer C0003: [('C0160', 0.9999990501953097), ('C0190', 0.9999978447367519), ('C0106', 0.9999929246163431)]\n",
      "Customer C0004: [('C0109', 0.9995206560178361), ('C0136', 0.9994815948467616), ('C0041', 0.9993756063666132)]\n",
      "Customer C0005: [('C0159', 0.999997473571035), ('C0146', 0.9999954043317109), ('C0007', 0.9999949103943028)]\n",
      "Customer C0006: [('C0079', 0.999999403565313), ('C0168', 0.9999650442922436), ('C0126', 0.999921847269312)]\n",
      "Customer C0007: [('C0146', 0.9999998594297274), ('C0092', 0.9999986553454548), ('C0089', 0.9999983227376269)]\n",
      "Customer C0008: [('C0124', 0.9999769627813653), ('C0090', 0.999968304426297), ('C0084', 0.9999361187675729)]\n",
      "Customer C0009: [('C0177', 0.9999325544624587), ('C0130', 0.9998036888759837), ('C0125', 0.999760762435753)]\n",
      "Customer C0010: [('C0142', 0.9753089076568281), ('C0132', 0.9051146197562364), ('C0027', 0.8676393065648377)]\n",
      "Customer C0011: [('C0064', 0.9999940329593967), ('C0100', 0.9999900865319702), ('C0022', 0.9999756286033377)]\n",
      "Customer C0012: [('C0182', 0.999991466116999), ('C0122', 0.9999888354702074), ('C0163', 0.999982245684428)]\n",
      "Customer C0013: [('C0188', 0.9999949145197559), ('C0067', 0.9999847353852069), ('C0021', 0.9999403987665906)]\n",
      "Customer C0014: [('C0060', 0.9999957057283819), ('C0097', 0.9999906656509737), ('C0198', 0.9999843924250996)]\n",
      "Customer C0015: [('C0123', 0.9999300804928968), ('C0058', 0.9999069716376497), ('C0033', 0.9998053171207292)]\n",
      "Customer C0016: [('C0040', 0.9999985574037622), ('C0154', 0.999998164522544), ('C0158', 0.9999934073697236)]\n",
      "Customer C0017: [('C0084', 0.9999928205454192), ('C0175', 0.9999581845873736), ('C0090', 0.9999122237760374)]\n",
      "Customer C0018: [('C0028', 0.9999751834471611), ('C0101', 0.9999726627608613), ('C0102', 0.999945020741992)]\n",
      "Customer C0019: [('C0121', 0.9997853490215106), ('C0077', 0.9994634203294959), ('C0172', 0.9992174708848552)]\n",
      "Customer C0020: [('C0130', 0.9999662691531161), ('C0191', 0.9999602337116118), ('C0198', 0.9999215076946459)]\n"
     ]
    }
   ],
   "source": [
    "# Generate top 3 lookalikes for customers C0001 to C0020\n",
    "lookalikes = {}\n",
    "for customer_id in customer_features['CustomerID'][:20]:\n",
    "    similar_customers = similarity_df[customer_id].sort_values(ascending=False).iloc[1:4]  \n",
    "    lookalikes[customer_id] = list(zip(similar_customers.index, similar_customers.values))\n",
    "    \n",
    "# Print top 3 lookalikes for a few customers\n",
    "print(\"Top 3 Lookalikes for Customers C0001 to C0020:\")\n",
    "for cust_id, lookalike in lookalikes.items():\n",
    "    print(f\"Customer {cust_id}: {lookalike}\")"
   ]
  },
  {
   "cell_type": "code",
   "execution_count": 8,
   "id": "22e30bdc-cb72-4418-9b46-21f3f54ff93b",
   "metadata": {},
   "outputs": [
    {
     "name": "stdout",
     "output_type": "stream",
     "text": [
      "Lookalike recommendations saved to Lookalike.csv\n"
     ]
    }
   ],
   "source": [
    "# Saving the results to Lookalike.csv\n",
    "lookalike_df = pd.DataFrame([(key, *val) for key, values in lookalikes.items() for val in values],\n",
    "                            columns=['CustomerID', 'LookalikeCustomerID', 'SimilarityScore'])\n",
    "lookalike_df.to_csv('Lookalike.csv', index=False)\n",
    "print(\"Lookalike recommendations saved to Lookalike.csv\")"
   ]
  },
  {
   "cell_type": "code",
   "execution_count": null,
   "id": "9e8dfaa0-3492-4b61-a5ec-060bf11bd62c",
   "metadata": {},
   "outputs": [],
   "source": []
  }
 ],
 "metadata": {
  "kernelspec": {
   "display_name": "Python 3 (ipykernel)",
   "language": "python",
   "name": "python3"
  },
  "language_info": {
   "codemirror_mode": {
    "name": "ipython",
    "version": 3
   },
   "file_extension": ".py",
   "mimetype": "text/x-python",
   "name": "python",
   "nbconvert_exporter": "python",
   "pygments_lexer": "ipython3",
   "version": "3.12.4"
  }
 },
 "nbformat": 4,
 "nbformat_minor": 5
}
